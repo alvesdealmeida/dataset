{
  "cells": [
    {
      "cell_type": "code",
      "execution_count": null,
      "metadata": {
        "cellView": "form",
        "id": "MLMprgSgvxt8"
      },
      "outputs": [],
      "source": [
        "# @title Bibliotecas\n",
        "# Importação da bibliotecas do Python\n",
        "import pandas as pd\n",
        "import numpy as np\n",
        "import matplotlib.pyplot as plt\n",
        "import seaborn as sns\n",
        "from sklearn.preprocessing import StandardScaler"
      ]
    },
    {
      "cell_type": "markdown",
      "metadata": {
        "id": "lSQ0an9WSBWD"
      },
      "source": [
        "**1 Exploração do conjunto de dados**"
      ]
    },
    {
      "cell_type": "code",
      "execution_count": null,
      "metadata": {
        "cellView": "form",
        "id": "i58vk8o4wY1H"
      },
      "outputs": [],
      "source": [
        "# @title Carregar o dataset\n",
        "# Carregar o conjunto de dados\n",
        "\n",
        "url = \"https://raw.githubusercontent.com/alvesdealmeida/dataset/refs/heads/main/TelecomCustomerChurn.csv\"\n",
        "\n",
        "df = pd.read_csv(url)\n",
        "\n",
        "#df = pd.read_csv(\"/content/drive/MyDrive/Dataset/TelecomCustomerChurn.csv\")\n",
        "#display(df)"
      ]
    },
    {
      "cell_type": "code",
      "execution_count": null,
      "metadata": {
        "cellView": "form",
        "id": "2b7eRmRawv03"
      },
      "outputs": [],
      "source": [
        "# @title Exploração do conjunto de dados\n",
        "# 1 Exploração do conjunto de dados\n",
        "print(\"1 - Exploração dos Dados\")\n",
        "\n",
        "# Visualização das primeiras e últimas linhas do conjunto de dados\n",
        "print(df.head())\n",
        "print(df.tail())"
      ]
    },
    {
      "cell_type": "code",
      "execution_count": null,
      "metadata": {
        "cellView": "form",
        "id": "mwH6Tz7Bw5Bi"
      },
      "outputs": [],
      "source": [
        "# @title Descrição das variáveis\n",
        "# Descrever as variáveis\n",
        "print(\"Descrição das variáveis:\")\n",
        "print(df.info())\n",
        "print(df.describe(include='all'))"
      ]
    },
    {
      "cell_type": "markdown",
      "metadata": {
        "id": "uQPWhLcLSJRS"
      },
      "source": [
        "**2 Limpeza de Dados**"
      ]
    },
    {
      "cell_type": "code",
      "execution_count": null,
      "metadata": {
        "cellView": "form",
        "id": "ONYxvJIXxJkU"
      },
      "outputs": [],
      "source": [
        "# @title Limpeza dos Dados\n",
        "# 2 Limpeza de Dados\n",
        "# apagar a coluna Unnamed: 0 e IDCliente são colunas desnecessárias\n",
        "df = df.drop(['customerID'], axis=1)\n",
        "\n",
        "# Passo 2.1: Tratamento de valores ausentes\n",
        "print(\"\\nTratamento de valores ausentes\")\n",
        "missing_data = df.isnull().sum()\n",
        "\n",
        "print(\"Valores ausentes por coluna:\")\n",
        "print(missing_data[missing_data > 0])"
      ]
    },
    {
      "cell_type": "code",
      "execution_count": null,
      "metadata": {
        "cellView": "form",
        "id": "tq4fo03Zxqs2"
      },
      "outputs": [],
      "source": [
        "# @title Imputação de valores numéricos pela média\n",
        "# Imputação de valores numéricos pela média\n",
        "df['TotalCharges'] = pd.to_numeric(df['TotalCharges'], errors='coerce') # converte para números\n",
        "df['TotalCharges'] = df['TotalCharges'].fillna(df['TotalCharges'].mean())\n",
        "#df['TotalCharges'].fillna(df['TotalCharges'].mean(), inplace=True)"
      ]
    },
    {
      "cell_type": "code",
      "execution_count": null,
      "metadata": {
        "cellView": "form",
        "id": "rL-xwGrkyiAS"
      },
      "outputs": [],
      "source": [
        "# @title Imputação de valores categóricos pela moda\n",
        "# Inputação de valores categóricos pela moda\n",
        "#df['Dependentes'].fillna(df['Dependentes'].mode()[0], inplace=True)\n",
        "#df['Churn'].fillna(df['Churn'].mode()[0], inplace=True)\n",
        "df['Dependents'] = df['Dependents'].fillna(df['Dependents'].mode()[0])\n",
        "df['Churn'] = df['Churn'].fillna(df['Churn'].mode()[0])"
      ]
    },
    {
      "cell_type": "code",
      "execution_count": null,
      "metadata": {
        "cellView": "form",
        "id": "Ov-iBeDhyymL"
      },
      "outputs": [],
      "source": [
        "# @title Remoção de colunas e linhas vazias e\n",
        "\n",
        "# Remover coluna vazia\n",
        "#df.drop(columns=['Codigo'], inplace=True)\n",
        "\n",
        "#Removendo linhas vazias\n",
        "#df.dropna()"
      ]
    },
    {
      "cell_type": "code",
      "execution_count": null,
      "metadata": {
        "cellView": "form",
        "id": "oOnl3WmFy3pL"
      },
      "outputs": [],
      "source": [
        "# @title Correção de Erros e Inconsistências\n",
        "# Passo 2.2: Correção de Erros e Inconsistências\n",
        "df['Gender'] = df['Gender'].str.lower()  # Exemplo para uma coluna categórica"
      ]
    },
    {
      "cell_type": "code",
      "execution_count": null,
      "metadata": {
        "cellView": "form",
        "id": "lLd8-tqmzQkO"
      },
      "outputs": [],
      "source": [
        "# @title Remoção de dados duplicados\n",
        "# Passo 2.3: Remoção de Duplicatas\n",
        "df.drop_duplicates(inplace=True)"
      ]
    },
    {
      "cell_type": "markdown",
      "metadata": {
        "id": "mUi2_vHtSVqk"
      },
      "source": [
        "**3 Detecção e Tratamento de outliers parte 1**"
      ]
    },
    {
      "cell_type": "code",
      "execution_count": 8,
      "metadata": {
        "id": "BEUTP6iazSJF",
        "cellView": "form"
      },
      "outputs": [],
      "source": [
        "# @title Visualização de Outliers\n",
        "# 3 Detecção e Tratamento de outliers\n",
        "# Passo 3.1: Visualização dos outliers\n",
        "plt.figure(figsize=(10,6))\n",
        "sns.boxplot(x=df['MonthlyCharges'])\n",
        "plt.title('Boxplot de Valor Mensal')\n",
        "plt.show()"
      ]
    },
    {
      "cell_type": "markdown",
      "metadata": {
        "id": "bOSJZ3ZhlBEo"
      },
      "source": [
        "**Detecção e Tratamento de Outliers - parte 2**"
      ]
    },
    {
      "cell_type": "code",
      "execution_count": 9,
      "metadata": {
        "cellView": "form",
        "id": "MVMjLi8DlQVJ"
      },
      "outputs": [],
      "source": [
        "# @title Estatísticas descritivas para valor mensal\n",
        "# Estatísticas descritivas para o valor mensal\n",
        "desc_stats = df['MonthlyCharges'].describe()\n",
        "q1 = desc_stats['25%']  # Primeiro quartil\n",
        "median = desc_stats['50%']  # Mediana\n",
        "q3 = desc_stats['75%']  # Terceiro quartil\n",
        "iqr = q3 - q1  # Intervalo interquartil\n",
        "\n",
        "# Definindo limites para outliers (valores fora de 1,5 vezes o intervalo interquartil)\n",
        "lower_bound = q1 - 1.5 * iqr\n",
        "upper_bound = q3 + 1.5 * iqr\n",
        "\n",
        "# Filtrando valores que estão fora desses limites (outliers)\n",
        "outliers = df[(df['MonthlyCharges'] < lower_bound) | (df['MonthlyCharges'] > upper_bound)]\n",
        "\n",
        "# Exibindo estatísticas\n",
        "print(\"Estatísticas Descritivas de MonthlyCharges:\")\n",
        "print(desc_stats)\n",
        "print(f\"\\nIntervalo Interquartil (IQR): {iqr}\")\n",
        "print(f\"Limite Inferior para Outliers: {lower_bound}\")\n",
        "print(f\"Limite Superior para Outliers: {upper_bound}\")\n",
        "print(f\"\\nOutliers encontrados:\\n{outliers}\")\n",
        "\n",
        "# Plotando o boxplot para visualizar\n",
        "plt.figure(figsize=(8, 6))\n",
        "sns.boxplot(data=df, x='MonthlyCharges', color='skyblue')\n",
        "plt.title(\"Boxplot de Valor Mensal\")\n",
        "plt.xlabel(\"MonthlyCharges\")\n",
        "plt.show()"
      ]
    },
    {
      "cell_type": "markdown",
      "metadata": {
        "id": "lt-R56u5mSVT"
      },
      "source": [
        "**Comentários sobre o Boxplot MonthlyCharges sugere:**\n",
        "\n",
        "**1 Distribuição Geral:**\n",
        "\n",
        "Faixa de valores mensais entre aproximadamente 20 e 120.\n",
        "\n",
        "O boxplot é bastante simétrico, indicando que os valores não possuem uma tendência acentuada de assimétria.  \n",
        "\n",
        "**Quartis:**\n",
        "\n",
        "A linha central representa a mediana, que parece estar próxima de 70, indicando que metade dos clientes paga abaixo desse valor e metade paga acima.\n",
        "\n",
        "A parte inferior e superior do retângulo representam o primeiro e o terceiro quartil, respectivamente, mostrando que 50% dos valores estão concentrados aproximadamente entre 40 e 90.\n",
        "\n",
        "**3 Amplitude e Disperção:**\n",
        "\n",
        "A distância entre os quartis indica que há uma grande variação nos valores cobrados mensalmente.\n",
        "\n",
        "Nâo há outliers visíveis (não se encontra ponto fora do intervalo dos limites do boxplot), o que é um indicador de que a maioria dos clientes paga da faixa esperada sem valores muito distantes.\n",
        "\n",
        "**Síntese:**\n",
        "\n",
        " A ampla faixa de valores pode refletir a presença de diferentes planos ou pacotes oferecidos, com alguns mais acessíveis e outros premium. E como a mediana está próxima do terceiro quartil, isso pode ser um indicador de que uma proporção significativa de clientes paga um valor mais alto, enquanto há uma menor quantidade pagando valores abaixo de 70.          "
      ]
    },
    {
      "cell_type": "code",
      "execution_count": 10,
      "metadata": {
        "cellView": "form",
        "id": "btkdc3pCzqPq"
      },
      "outputs": [],
      "source": [
        "# @title Tratamento de Outliers\n",
        "# Passo 3.2: Tratamento de outliers\n",
        "Q1 = df['MonthlyCharges'].quantile(0.25)\n",
        "Q3 = df['MonthlyCharges'].quantile(0.75)\n",
        "IQR = Q3 - Q1\n",
        "df = df[(df['MonthlyCharges'] >= Q1 - 1.5 * IQR) & (df['MonthlyCharges'] <= Q3 + 1.5 * IQR)]\n",
        "print(df)"
      ]
    },
    {
      "cell_type": "markdown",
      "metadata": {
        "id": "Fcuzr9ILSffS"
      },
      "source": [
        "**4 Codificação e Padronização**"
      ]
    },
    {
      "cell_type": "code",
      "execution_count": null,
      "metadata": {
        "cellView": "form",
        "id": "V3J3sVan0GZW"
      },
      "outputs": [],
      "source": [
        "# @title Codificação de variáveis categóricas\n",
        "# 4 Codificação e Padronização\n",
        "# Passo 4.1: Codificação de variáveis categóricas\n",
        "df = pd.get_dummies(df, columns=['Gender', 'Partner', 'Churn'], drop_first=True)"
      ]
    },
    {
      "cell_type": "code",
      "execution_count": null,
      "metadata": {
        "cellView": "form",
        "id": "Eb2nKYLF0IW9"
      },
      "outputs": [],
      "source": [
        "# @title Padronização ou Normalização\n",
        "# Passo 4.2: Padronização ou Normalização\n",
        "scaler = StandardScaler()\n",
        "df[['MonthlyCharges', 'TotalCharges']] = scaler.fit_transform(df[['MonthlyCharges', 'TotalCharges']])"
      ]
    },
    {
      "cell_type": "markdown",
      "metadata": {
        "id": "1tccPBt3SoOi"
      },
      "source": [
        "**5 Feature Engineering e Visualização**"
      ]
    },
    {
      "cell_type": "code",
      "execution_count": null,
      "metadata": {
        "cellView": "form",
        "id": "rmraFub10PHe"
      },
      "outputs": [],
      "source": [
        "# @title Criação de novas variáveis\n",
        "# 5 Feature Engineering e Visualização\n",
        "# Passo 5.1: Criação de Novas variáveis\n",
        "df['TotalExpensePerMonth'] = df['TotalCharges'] / (df['Tenure'] + 1)"
      ]
    },
    {
      "cell_type": "code",
      "execution_count": null,
      "metadata": {
        "id": "hnIoIx2v6swP",
        "cellView": "form"
      },
      "outputs": [],
      "source": [
        "# @title Verificação se existe uma coluna \"Gender\" no dataset\n",
        "#import seaborn as sns\n",
        "#import matplotlib.pyplot as plt\n",
        "#import numpy as np\n",
        "\n",
        "# Verifique se 'Gender' existe e é categórica\n",
        "#if 'Gender' in df.columns and df['Gender'].dtype == 'object':\n",
        "#    # Confirme que há colunas numéricas no DataFrame\n",
        "#    numeric_cols = df.select_dtypes(include=[np.number]).columns\n",
        "#    if len(numeric_cols) > 0:\n",
        "#        sns.pairplot(df, hue='Gender')\n",
        "#        plt.suptitle('Distribuições e Correlações', y=1.02)\n",
        "#        plt.show()\n",
        "#    else:\n",
        "#        print(\"O DataFrame não contém colunas numéricas para o pairplot.\")\n",
        "#else:\n",
        "#    print(\"A coluna 'Gender' não está presente ou não é categórica.\")\n"
      ]
    },
    {
      "cell_type": "code",
      "execution_count": 11,
      "metadata": {
        "cellView": "form",
        "id": "ea4SXLl30YKw"
      },
      "outputs": [],
      "source": [
        "# @title Visualização das Distribuições e Correlações\n",
        "# Passo 5.2: Visualização das Distribuições e Correlações\n",
        "sns.pairplot(df, hue='Gender')\n",
        "plt.suptitle('Distribuições e Correlações', y=1.02)\n",
        "plt.show()"
      ]
    },
    {
      "cell_type": "code",
      "execution_count": 12,
      "metadata": {
        "cellView": "form",
        "id": "zbQo-2BA3D3I"
      },
      "outputs": [],
      "source": [
        "# @title Conversão para colunas numéricas e Matriz de Correlação - heatmap\n",
        "# Tentar converter todas as colunas para numérico, onde possível\n",
        "df = df.apply(pd.to_numeric, errors='coerce')\n",
        "# Selecionar apenas colunas numéricas para a matriz de correlação\n",
        "\n",
        "numerical_df = df.select_dtypes(include=[np.number])\n",
        "\n",
        "# Gerar Matriz de correlação e o heatmap\n",
        "plt.figure(figsize=(12, 8))\n",
        "sns.heatmap(df.corr(), annot=True, cmap='coolwarm', fmt=\".2f\")\n",
        "plt.title('Matriz de Correlação')\n",
        "plt.show()"
      ]
    },
    {
      "cell_type": "markdown",
      "metadata": {
        "id": "6QGJ4RIbCS86"
      },
      "source": [
        "**Relatório Final do Trabalho**\n",
        "\n",
        "Para elaborar uma análise minuciosa, faz-se necessário focar em cada etapa definida no código para explorar e atender o conjunto de dados.\n",
        "\n",
        "Ao final deste relatório é apresentado uma Situação problema com análise dos gráficos implementados.\n",
        "\n",
        "A base de dados utilizada para esta análise foi a de uma simulação de uma operadora telefônica que apresentou um índice de cancelamentos de assinaturas. Esta base de dados foi extraido do site Kaggle, devido os dados serem públicos.\n",
        "\n",
        "Eis o resumo detalhado que cada seção do código e em seguida a interpretação."
      ]
    },
    {
      "cell_type": "markdown",
      "metadata": {
        "id": "vLBBSIFbNyTD"
      },
      "source": [
        "**1 Exploração dos Dados**\n",
        "\n",
        "**As primeiras linhas e Estruturas do Conjunto de Dados:** Ao exibir as primeiras e últimas linhas do conjunto, é possível\n",
        "observar a estrutura dos dados e verificar se as colunas contém os tipos de dados esperados.\n",
        "\n",
        "**Descrição das Variáveis:** O comando \"df.describe(include='all')\" permite ver as principais estatísticas das variáveis ,\n",
        "como média, desvio padrão e contagens para variáveis categóricas.\n",
        "\n",
        "**Análise:**\n",
        "\n",
        "**Tipos de Variáveis:** Identificar quais colunas são numéricas \"(como ValorMensal e TotalGasto)\" e quais são categóricas \"(como\n",
        "Genero, Dependente, Churn)\".\n",
        "\n",
        "**Estatísticas:** As variáveis numéricas devem mostrar medidas como média e dispersão, o que indica como dos dados estão distribuídos.\n",
        "Para variáveis categóricas, é útil observar as frequências."
      ]
    },
    {
      "cell_type": "markdown",
      "metadata": {
        "id": "2mLpFXFFO0H3"
      },
      "source": [
        "**2 Limpeza de Dados**\n",
        "\n",
        "**Tratamento de Valores Ausentes:** Verica quais as colunas têm valores ausentes e os substitui conforme o tipo de variável. Por exemplo, para \"TotalGasto\", um valor numérico, é usada a média, enquanto para as variáveis categóricas, a  moda é a mais indicada.\n",
        "\n",
        "**Remoção de Colunas Vazias:** A coluna \"Codigo\" foi removida por estar vazia ou irrelevante para a análise. Neste quesito,\n",
        "as colunas \"Unnamed: 0\" e \"IDCliente\" também foram eliminadas, visto que não trariam relevância para a análise.\n",
        "\n",
        "**Correção de Erros e inconsistências:** Normalizando a capitalização em \"Genero\" para evitar variações inconsistentes.\n",
        "\n",
        "**Remoção de Duplicatas:** As duplicatas são eliminadas para assegurar que cada entrada seja única.\n",
        "\n",
        "**Análise:**\n",
        "\n",
        "**Impacto dos Valores Ausentes:** Com a imputação, verificou se a estrutura dos dados permanece coerente. A média em variáveis\n",
        "numéricas minimiza o impacto da ausência, enquanto a moda em categórias garante que elas não sejam enviesadas.\n",
        "\n",
        "**Inconsistências Categóricas:** Ao uniformizar as categorias, minimizamos possíveis erros de leitura ou processamento futuro."
      ]
    },
    {
      "cell_type": "markdown",
      "metadata": {
        "id": "UJK8QHWPPghl"
      },
      "source": [
        "**3 Detecção e Tratamento de Outliers**\n",
        "\n",
        "**Identificação de Outliers:** A análise utiliza boxplots para visualizar dados extremos em colunas como \"ValorMensal\".\n",
        "\n",
        "**Tratamento de Outliers:** Aplicação do método IQR para limitar os valores aos intervalos interquartis. Isso ajuda a suavizar\n",
        "a distribuição, garantindo que os outliers não distorçam as análises.\n",
        "\n",
        "**Análise:**\n",
        "\n",
        "**Visualização de Boxplot:** Facilita identificar quais variáveis têm valores atípicos significativos.\n",
        "\n",
        "**Tratamento de Outliers:** Remover ou ajustar outliers ajuda a obter uma visão mais realista, especialmente para análises que dependem\n",
        "de médias.\n",
        "\n",
        "Reprodução: **Comentários do Boxplot MonthlyCharges sugere:**\n",
        "\n",
        "**1 Distribuição Geral:**\n",
        "\n",
        "Faixa de valores mensais entre aproximadamente 20 e 120.\n",
        "\n",
        "O boxplot é bastante simétrico, indicando que os valores não possuem uma tendência acentuada de assimétria.  \n",
        "\n",
        "**Quartis:**\n",
        "\n",
        "A linha central representa a mediana, que parece estar próxima de 70, indicando que metade dos clientes paga abaixo desse valor e metade paga acima.\n",
        "\n",
        "A parte inferior e superior do retângulo representam o primeiro e o terceiro quartil, respectivamente, mostrando que 50% dos valores estão concentrados aproximadamente entre 40 e 90.\n",
        "\n",
        "**3 Amplitude e Disperção:**\n",
        "\n",
        "A distância entre os quartis indica que há uma grande variação nos valores cobrados mensalmente.\n",
        "\n",
        "Nâo há outliers visíveis (não se encontra ponto fora do intervalo dos limites do boxplot), o que um indicador de que a maioria dos clientes paga da faixa esperada sem valores muito distantes.\n",
        "\n",
        "Síntese:\n",
        "\n",
        " A ampla faixa de valores pode refletir a presença de diferentes planos ou pacotes oferecidos, com alguns mais acessíveis e outros premium. E como a mediana está próxima do terceiro quartil, isso pode ser um indicador de que uma proporção significativa de clientes paga um valor mais alto, enquanto há uma menor quantidade pagando valores abaixo de 70.          "
      ]
    },
    {
      "cell_type": "markdown",
      "metadata": {
        "id": "6dwhSuuTQEmB"
      },
      "source": [
        "**4 Codificação e Padronização**\n",
        "\n",
        "**Codificação de Varias Categórias:** A conversão das colunas categóricas \"(Genero, Casado, Churn)\" para variáveis numéricas\n",
        "(usando One-Hot Encoding) permite aplicá-las em modelos de aprendizado de máquina e facilita o cálculo de correlações.\n",
        "\n",
        "**Padronização ou Normalização:** A normalização das colunas \"ValorMensal\" e \"TotalGasto\" paera uma escala padrão permite compará-las\n",
        "diretamente, sem viés de magnitude.\n",
        "\n",
        "**Análise:**\n",
        "\n",
        "**Interpretação das Variáveis Codificadas:** As colunas geradas pela codificação binária representam as categorias originais e\n",
        "permitem uma análise mais robusta.\n",
        "\n",
        "**Normalização:** Melhora a consistência da análise quantitativa ao reduzir a influência de escalas variáveis.\n"
      ]
    },
    {
      "cell_type": "markdown",
      "metadata": {
        "id": "n3f1eGTpQaxJ"
      },
      "source": [
        "**5 Feature Engineering e Visualização**\n",
        "\n",
        "**Criação de Novas Variáveis:** O cálculo de \"GastoTotalPorMes\" oferece ideias (insights) sobre o comportamento dos clientes\n",
        "ao longo do tempo, ajustado pelos meses de associação.\n",
        "\n",
        "**Visualização das Distribuições e Correlações:**\n",
        "\n",
        "**Paiplot:** A função \"sns.pairplot\" ajuda a entender a relação entre as variáveis\n",
        "numéricas e identifica possíveis associações.\n",
        "\n",
        "**Heatmap de Correlação:** A matriz de correlação visualizada por um heatmap\n",
        "ajuda  ver quais variáveis têm fortes relações entre si. Isso é útil para detectar multicolinearidade, que pode distorcer\n",
        "modelos preditivos.\n",
        "\n",
        "**Análise:**\n",
        "\n",
        "**Ideia (insight) das Novas Variáveis:** A variável \"GastoTotalPorMes\" pode revelar tendências de consumo e fidelidade.\n",
        "\n",
        "**Distribuição e Correlação:** Com a matriz de correlação, podemos identificar padrões, como se há correlação entre \"TotalGasto\" e\n",
        "\"ValorMensal\"."
      ]
    },
    {
      "cell_type": "markdown",
      "metadata": {
        "id": "JPfneqMCRCzK"
      },
      "source": [
        "Em síntese, conclui-se que esta análise de dados auxiliará nos seguintes **objetivos:**\n",
        "\n",
        "**Identificar** padrões e associações no comportamento dos clientes, como gasto médio, relação com churn, etc.\n",
        "\n",
        "**Fornecer** uma base limpa e padronizada para análises avançadas ou modelos preditivos.\n",
        "\n",
        "**Destacar** ideias (insights) para ações estratégicas, como fidelização de clientes com alto gasto mensal ou previsão de churn\n",
        "para clintes em situações específicas."
      ]
    },
    {
      "cell_type": "markdown",
      "metadata": {
        "id": "I1exT6VBao7J"
      },
      "source": [
        "**Situação Problema**\n",
        "\n",
        "Não é suficiente saber utilizar as ferramentas tecnológicas para trabalhar com dados estatísticos.\n",
        "\n",
        "É necessário entender o problema que se quer resolver e então, a partir desta visão, implementar os meios necessários para solucioná-lo.\n",
        "\n",
        "A base de dados tem um coluna \"Churn\" que mostra que muitos clientes estão cancelando as assinaturas dos serviços de uma operadora de telefonia. Diante deste cenário, questões são levantadas e requerem medias para mitigar esta saída de clientes e trazê-los de volta.\n",
        "\n",
        "**Questões:**\n",
        "\n",
        "**Qual é o problema?**\n",
        "\n",
        "Alto índice de cancelamento de contratos.\n",
        "\n",
        "**O que fazer diante do problema?**\n",
        "\n",
        "Entender os principais motivos que levam ao cancelamento para então implementar\n",
        "um plano de ação."
      ]
    },
    {
      "cell_type": "code",
      "execution_count": 13,
      "metadata": {
        "cellView": "form",
        "id": "pq2gWOQWCb4l"
      },
      "outputs": [],
      "source": [
        "# @title Carregar dataset\n",
        "planilha = \"https://raw.githubusercontent.com/alvesdealmeida/dataset/refs/heads/main/TelecomCustomerChurn.csv\"\n",
        "telefonia = pd.read_csv(planilha)\n",
        "telefonia"
      ]
    },
    {
      "cell_type": "code",
      "execution_count": 14,
      "metadata": {
        "cellView": "form",
        "id": "bibq1qbeDlpL"
      },
      "outputs": [],
      "source": [
        "# @title Tratamento dos dados\n",
        "# Tratando os dados\n",
        "print(telefonia.info())"
      ]
    },
    {
      "cell_type": "code",
      "execution_count": null,
      "metadata": {
        "cellView": "form",
        "id": "hOgqp1piD5MU"
      },
      "outputs": [],
      "source": [
        "# @title Ajustamento da coluna \"TotalCharges\" para tipo numérico\n",
        "# A coluna TotalCharges está classificada como Object, mas se trata de números e deve ser tratada como tal\n",
        "telefonia[\"TotralCharges\"] = pd.to_numeric(telefonia[\"TotalCharges\"], errors=\"coerce\")"
      ]
    },
    {
      "cell_type": "code",
      "execution_count": null,
      "metadata": {
        "cellView": "form",
        "id": "W9AIsNK2FWZ_"
      },
      "outputs": [],
      "source": [
        "# @title Remoção de coluna vazia\n",
        "# Removendo a coluna que esteja toda vazia\n",
        "telefonia = telefonia.dropna(how=\"all\", axis=1)"
      ]
    },
    {
      "cell_type": "code",
      "execution_count": null,
      "metadata": {
        "cellView": "form",
        "id": "rIOnQOFFF-ih"
      },
      "outputs": [],
      "source": [
        "# @title Remoção de linhas vazias\n",
        "# Removendo a linha vazia, caso tenha\n",
        "telefonia = telefonia.dropna()"
      ]
    },
    {
      "cell_type": "code",
      "execution_count": 15,
      "metadata": {
        "cellView": "form",
        "id": "AFjA8i6RFZdP"
      },
      "outputs": [],
      "source": [
        "# @title Visão resumida do dataset usando o info()\n",
        "print(telefonia.info())"
      ]
    },
    {
      "cell_type": "markdown",
      "metadata": {
        "id": "zZOeCwPeGfA0"
      },
      "source": [
        "**Analise de Dados:**\n",
        "\n",
        "**Problema:**\n",
        "\n",
        "Alto índice de cancelamento de contratos.\n",
        "\n",
        "**O que fazer?**\n",
        "\n",
        "Entender e compreender os motivos principais que\n",
        "levaram o cliente a cancelar as assinaturas e implementar\n",
        "um plano de ação."
      ]
    },
    {
      "cell_type": "code",
      "execution_count": 16,
      "metadata": {
        "id": "UCPPx9RpHghT"
      },
      "outputs": [],
      "source": [
        "# @title Análise Exploratória (verificação do grau/tamanho de Cancelamentos)\n",
        "# Analise exploratória para ver o grau/tamanho de cancelamentos de assinaturas\n",
        "display(telefonia[\"Churn\"].value_counts())\n",
        "display(telefonia[\"Churn\"].value_counts(normalize=True))"
      ]
    },
    {
      "cell_type": "code",
      "execution_count": 17,
      "metadata": {
        "cellView": "form",
        "id": "FIoxWl1sHrk8"
      },
      "outputs": [],
      "source": [
        "# @title Melhorando a visualização (passando o resultado para porcentagem)\n",
        "# Melhorando a visualziação dos valores passando para porcetagem para ser entendido ao bater o olho\n",
        "display(telefonia[\"Churn\"].value_counts())\n",
        "display(telefonia[\"Churn\"].value_counts(normalize=True).map('{:.1%}'.format))"
      ]
    },
    {
      "cell_type": "markdown",
      "metadata": {
        "id": "vh_9SXwbblzZ"
      },
      "source": [
        "**Churn** é uma métrica utilizada para mostrar a quantidade de clientes que cancelaram um determinado serviço em um determinado período de tempo.\n",
        "No caso da telefônica o **índice de cancelamento**, após os devidos ajustes na\n",
        "base de dados, é de **26.6%** ."
      ]
    },
    {
      "cell_type": "code",
      "execution_count": null,
      "metadata": {
        "cellView": "form",
        "id": "p0aOk2j6JuF3"
      },
      "outputs": [],
      "source": [
        "# @title Análise dos dados por meio dos Gráficos\n",
        "# Analisando Dados por meio dos Gráficos\n",
        "import plotly.express as px"
      ]
    },
    {
      "cell_type": "code",
      "execution_count": 18,
      "metadata": {
        "cellView": "form",
        "id": "_Yb6fbbnK4cC"
      },
      "outputs": [],
      "source": [
        "# @title Implementação de código para visualização de vários gráficos\n",
        "# Há muitas colunas e para criação de vários gráficos- uso do laço de repetição for\n",
        "for coluna in telefonia:\n",
        "    if coluna != \"customerID\":\n",
        "       fig = px.histogram(telefonia, x=coluna, color=\"Churn\")\n",
        "       fig.show()\n",
        "       display(telefonia.pivot_table(index=\"Churn\", columns=coluna, aggfunc=\"count\")[\"customerID\"])"
      ]
    },
    {
      "cell_type": "markdown",
      "metadata": {
        "id": "Tipa59HhPfu2"
      },
      "source": [
        "**Análise de Dados Gráfico Contrato:**\n",
        "\n",
        "**Problema:**\n",
        "\n",
        "Contrato Mensal com alta taxa de cancelamento superior aos demais tipos de pagamentos.\n",
        "\n",
        "**Ação:**\n",
        "\n",
        "Melhorar as condições comerciais dos planos anuais com o objetivo de atrair o cliente para\n",
        "essa modalidade.\n",
        "\n",
        "![Screen Shot 11-06-24 at 06.02 PM.PNG](data:image/png;base64,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)\n"
      ]
    },
    {
      "cell_type": "markdown",
      "metadata": {
        "id": "_LSxUUAYZHRg"
      },
      "source": [
        "**Análise do Grafico Método de Pagamento**\n",
        "\n",
        "**Problema:**\n",
        "\n",
        "Nível de cancelamento, devido ao  pagamento manual, é elevado em relação aos outros métodos.\n",
        "\n",
        "**Possíveis Razões:**\n",
        "\n",
        "Esquecimento ou dificuldade em efetuar o pagamento.\n",
        "\n",
        "Inconveniência do processo manual.\n",
        "\n",
        "Falta de acompanhamento.\n",
        "\n",
        "**Ações:**\n",
        "\n",
        "Incentivar a adoção de pagamentos automáticos: oferecer incentivos, como descontos ou pontos de fidelidade para os clientes\n",
        "optarem mudar de método de pagamento (para o automático).\n",
        "\n",
        "Implementar lembretes de pagamento e notificações: Enviar lembretes automáticos por e-mail, sms ou notificações pelo aplicativo para os clientes.\n",
        "\n",
        "Facilitar a migração para pagamento automático: Tornar o processo de alteração do método de pagamento simples e acessível para que os clientes possam\n",
        "migrar para os outros métodos automáticos.\n",
        "\n",
        "![Screen Shot 11-06-24 at 06.20 PM.PNG](data:image/png;base64,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)"
      ]
    },
    {
      "cell_type": "markdown",
      "metadata": {
        "id": "db_goVkwZ8_w"
      },
      "source": [
        "**Fonte da Base de Dados:**\n",
        "\n",
        "**Kaggle**\n",
        "\n",
        "https://www.kaggle.com/datasets/sakshigoyal7/credit-card-customers\n",
        "\n",
        "https://github.com/alvesdealmeida/dataset\n"
      ]
    }
  ],
  "metadata": {
    "colab": {
      "provenance": []
    },
    "kernelspec": {
      "display_name": "Python 3",
      "name": "python3"
    },
    "language_info": {
      "name": "python"
    }
  },
  "nbformat": 4,
  "nbformat_minor": 0
}